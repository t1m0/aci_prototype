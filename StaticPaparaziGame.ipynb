{
 "cells": [
  {
   "cell_type": "code",
   "execution_count": 1,
   "id": "e2f5fd71",
   "metadata": {},
   "outputs": [],
   "source": [
    "from Application.PaparaziGame import PaparaziGame\n",
    "from Application.plot_map import plot_map\n",
    "import pandas as pd"
   ]
  },
  {
   "cell_type": "code",
   "execution_count": 2,
   "id": "b2498d10",
   "metadata": {},
   "outputs": [],
   "source": [
    "game = PaparaziGame()"
   ]
  },
  {
   "cell_type": "code",
   "execution_count": null,
   "id": "ae1414e7",
   "metadata": {},
   "outputs": [
    {
     "name": "stdout",
     "output_type": "stream",
     "text": [
      "Testmap_weighted_50\n",
      "Testmap_weighted_100\n",
      "Testmap_weighted_25\n",
      "Testmap_weighted_200\n"
     ]
    }
   ],
   "source": [
    "game_map = game.play(\"Maps/\",5)"
   ]
  },
  {
   "cell_type": "code",
   "execution_count": null,
   "id": "e0e8a497",
   "metadata": {},
   "outputs": [],
   "source": [
    "columns=['uuid', 'time_elapsed', 'total_iteration', 'total_cost', 'path_length', 'heuristic', 'map','path']\n",
    "df = pd.DataFrame([[getattr(i,j) for j in columns] for i in game_map], columns=columns)"
   ]
  },
  {
   "cell_type": "code",
   "execution_count": null,
   "id": "3d386006",
   "metadata": {},
   "outputs": [],
   "source": [
    "df"
   ]
  },
  {
   "cell_type": "code",
   "execution_count": null,
   "id": "cb03ced9",
   "metadata": {},
   "outputs": [],
   "source": [
    "df.groupby('heuristic')[['total_cost', 'time_elapsed']].min()"
   ]
  },
  {
   "cell_type": "code",
   "execution_count": null,
   "id": "bd576fc5",
   "metadata": {},
   "outputs": [],
   "source": [
    "def find_best_result(df, heuristic):\n",
    "    results = df[df['heuristic'] == heuristic]\n",
    "    return results[results['total_cost'] == results['total_cost'].min()].sort_values(by=['time_elapsed']).iloc[0]"
   ]
  },
  {
   "cell_type": "code",
   "execution_count": null,
   "id": "9ce4982c",
   "metadata": {},
   "outputs": [],
   "source": [
    "for heuristic in ['None', \"Manhattan\", \"Euclidean\", \"Chebyshev\"]:\n",
    "    best_manhattan = find_best_result(df,heuristic)\n",
    "    manhattan_map = plot_map(best_manhattan['map'], best_manhattan['path'])"
   ]
  },
  {
   "cell_type": "code",
   "execution_count": null,
   "id": "6540f37b",
   "metadata": {},
   "outputs": [],
   "source": []
  }
 ],
 "metadata": {
  "kernelspec": {
   "display_name": "Python 3.9 (ipykernel)",
   "language": "python",
   "name": "python3.9"
  },
  "language_info": {
   "codemirror_mode": {
    "name": "ipython",
    "version": 3
   },
   "file_extension": ".py",
   "mimetype": "text/x-python",
   "name": "python",
   "nbconvert_exporter": "python",
   "pygments_lexer": "ipython3",
   "version": "3.9.10"
  }
 },
 "nbformat": 4,
 "nbformat_minor": 5
}
